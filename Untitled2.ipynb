{
  "nbformat": 4,
  "nbformat_minor": 0,
  "metadata": {
    "colab": {
      "provenance": [],
      "machine_shape": "hm",
      "authorship_tag": "ABX9TyMTDpDXbgrkkq1htVDQVxSB",
      "include_colab_link": true
    },
    "kernelspec": {
      "name": "python3",
      "display_name": "Python 3"
    },
    "language_info": {
      "name": "python"
    },
    "accelerator": "GPU",
    "gpuClass": "standard"
  },
  "cells": [
    {
      "cell_type": "markdown",
      "metadata": {
        "id": "view-in-github",
        "colab_type": "text"
      },
      "source": [
        "<a href=\"https://colab.research.google.com/github/mirai-quest/mandala/blob/main/Untitled2.ipynb\" target=\"_parent\"><img src=\"https://colab.research.google.com/assets/colab-badge.svg\" alt=\"Open In Colab\"/></a>"
      ]
    },
    {
      "cell_type": "code",
      "execution_count": 9,
      "metadata": {
        "colab": {
          "base_uri": "https://localhost:8080/"
        },
        "id": "1BICSyjsjKn0",
        "outputId": "56df93c3-2cc5-4b7c-ce89-bdda840a4318"
      },
      "outputs": [
        {
          "output_type": "stream",
          "name": "stdout",
          "text": [
            "Found 63 images belonging to 5 classes.\n",
            "Found 20 images belonging to 5 classes.\n",
            "Model: \"sequential_1\"\n",
            "_________________________________________________________________\n",
            " Layer (type)                Output Shape              Param #   \n",
            "=================================================================\n",
            " vgg16 (Functional)          (None, 7, 7, 512)         14714688  \n",
            "                                                                 \n",
            " flatten_1 (Flatten)         (None, 25088)             0         \n",
            "                                                                 \n",
            " dense_2 (Dense)             (None, 512)               12845568  \n",
            "                                                                 \n",
            " dropout_1 (Dropout)         (None, 512)               0         \n",
            "                                                                 \n",
            " dense_3 (Dense)             (None, 5)                 2565      \n",
            "                                                                 \n",
            "=================================================================\n",
            "Total params: 27,562,821\n",
            "Trainable params: 19,927,557\n",
            "Non-trainable params: 7,635,264\n",
            "_________________________________________________________________\n",
            "Epoch 1/11\n",
            "1/1 [==============================] - 1s 1s/step - loss: 2.1472 - accuracy: 0.1875\n",
            "Epoch 2/11\n",
            "1/1 [==============================] - 1s 597ms/step - loss: 1.8634 - accuracy: 0.2258\n",
            "Epoch 3/11\n",
            "1/1 [==============================] - 1s 597ms/step - loss: 2.3783 - accuracy: 0.1562\n",
            "Epoch 4/11\n",
            "1/1 [==============================] - 1s 595ms/step - loss: 2.0096 - accuracy: 0.1562\n",
            "Epoch 5/11\n",
            "1/1 [==============================] - 1s 601ms/step - loss: 1.8385 - accuracy: 0.1562\n",
            "Epoch 6/11\n",
            "1/1 [==============================] - 1s 588ms/step - loss: 1.4712 - accuracy: 0.3125\n",
            "Epoch 7/11\n",
            "1/1 [==============================] - 1s 603ms/step - loss: 1.9428 - accuracy: 0.2500\n",
            "Epoch 8/11\n",
            "1/1 [==============================] - 1s 561ms/step - loss: 1.9982 - accuracy: 0.0968\n",
            "Epoch 9/11\n",
            "1/1 [==============================] - 1s 596ms/step - loss: 1.6526 - accuracy: 0.2812\n",
            "Epoch 10/11\n",
            "1/1 [==============================] - 1s 638ms/step - loss: 1.9401 - accuracy: 0.2500\n",
            "Epoch 11/11\n",
            "1/1 [==============================] - 1s 634ms/step - loss: 1.8350 - accuracy: 0.3125\n"
          ]
        }
      ],
      "source": [
        "#VGG16の block5_conv1以降をファインチューニング\n",
        "import keras\n",
        "from keras.applications import VGG16\n",
        "from keras import models\n",
        "from keras import layers\n",
        "from keras import optimizers\n",
        "from keras.preprocessing.image import ImageDataGenerator\n",
        "import os\n",
        "import numpy as np\n",
        "\n",
        "classes=['homare','kotobuki','miyabi','syu',\"yu\"]\n",
        "nb_classes=len(classes)\n",
        "batch_size=32\n",
        "\n",
        "#学習（train）及び検証（validation）データ数を指定。\n",
        "#nb_train:学習用画像データ数、nb_validation：検証用画像データ数。\n",
        "#これらは学習(compile)時に1回の学習（epoch）あたりのstep数を決めるために設定。\n",
        "#学習用データをVGG16に合わせて、img_width, img_heightのピクセル数へ整形\n",
        "nb_train=63\n",
        "nb_validation=20\n",
        "img_width,img_height=224,224\n",
        "\n",
        "conv_base = VGG16(weights='imagenet',\n",
        "                  include_top=False,\n",
        "                  input_shape=(224,224,3))\n",
        "\n",
        "#学習（train）及び検証（validation）データがあるフォルダを指定\n",
        "base_dir = '/content/drive/MyDrive/美濃加茂市里山×STEAM関連フォルダ/堂上蜂屋柿データ/堂上蜂屋柿機械学習用ファイル一式3/青木からのデータ/機械学習時に使用したデータ/HachiyaKaki-fin'\n",
        "train_dir = os.path.join(base_dir, 'train')\n",
        "validation_dir = os.path.join(base_dir, 'validation')\n",
        "test_dir = os.path.join(base_dir, 'test')\n",
        "\n",
        "conv_base.trainable=True\n",
        "\n",
        "set_trainable=False\n",
        "for layer in conv_base.layers:\n",
        "    if layer.name=='block5_conv1':\n",
        "        set_trainable=True\n",
        "    if set_trainable:\n",
        "        layer.trainable=True\n",
        "    else:\n",
        "        layer.trainable=False\n",
        "\n",
        "#過学習を防ぐため、学習したパラメータの半分（0.5）破棄（dropout(0.5))する。\n",
        "model=models.Sequential()\n",
        "model.add(conv_base)\n",
        "model.add(layers.Flatten())\n",
        "model.add(layers.Dense(512,activation='relu'))\n",
        "model.add(layers.Dropout(0.5))\n",
        "model.add(layers.Dense(nb_classes,activation='softmax'))\n",
        "\n",
        "#画像を回転するなどして、学習用データ数を増やす。\n",
        "train_datagen=ImageDataGenerator(\n",
        "    rescale=1./255,\n",
        "    rotation_range=40,\n",
        "    width_shift_range=0.2,\n",
        "    height_shift_range=0.2,\n",
        "    shear_range=0.2,\n",
        "    zoom_range=0.2,\n",
        "    horizontal_flip=True,\n",
        "    fill_mode='nearest')\n",
        "\n",
        "valid_datagen=ImageDataGenerator(rescale=1./255)\n",
        "\n",
        "train_generator=train_datagen.flow_from_directory(\n",
        "    train_dir, \n",
        "    target_size=(img_width,img_height),\n",
        "    color_mode='rgb',\n",
        "    batch_size=batch_size,\n",
        "    class_mode='categorical',\n",
        "    classes=classes,\n",
        "    shuffle=True\n",
        "    )\n",
        "\n",
        "validation_generator=valid_datagen.flow_from_directory(\n",
        "    validation_dir,\n",
        "    target_size=(img_width,img_height),\n",
        "    class_mode='categorical',\n",
        "    classes=classes,\n",
        "    shuffle=True\n",
        "    )\n",
        "\n",
        "model.compile(loss='categorical_crossentropy',\n",
        "              optimizer=optimizers.SGD(lr=1e-4,momentum=0.9),\n",
        "              metrics=['accuracy'])\n",
        "\n",
        "\n",
        "model.summary()\n",
        "\n",
        "#学習回数をepochsで50回に設定。結果として、過学習を防ぐには11回で停止する（epoch=11とする）方が良いです。\n",
        "#11回で停止すると、正解率は、約31%です。\n",
        "history=model.fit(train_generator,\n",
        "                  steps_per_epoch=nb_train//batch_size,\n",
        "                  epochs=11,\n",
        "                  validation_data=validation_generator,\n",
        "                  validation_steps=nb_validation//batch_size\n",
        "                  )"
      ]
    },
    {
      "cell_type": "code",
      "source": [
        "from google.colab import drive\n",
        "drive.mount('/content/drive')"
      ],
      "metadata": {
        "colab": {
          "base_uri": "https://localhost:8080/"
        },
        "id": "1sLAsPK0jWay",
        "outputId": "f1eb2519-eef1-43af-8791-c305ec641b12"
      },
      "execution_count": 7,
      "outputs": [
        {
          "output_type": "stream",
          "name": "stdout",
          "text": [
            "Drive already mounted at /content/drive; to attempt to forcibly remount, call drive.mount(\"/content/drive\", force_remount=True).\n"
          ]
        }
      ]
    },
    {
      "cell_type": "code",
      "source": [
        "#学習が完了した後、学習の進捗状況をグラフに表示します。\n",
        "#epoch=11の場合\n",
        "\n",
        "import matplotlib.pyplot as plt\n",
        "\n",
        "acc=history.history['accuracy']\n",
        "val_acc=history.history['val_accuracy']\n",
        "loss=history.history['loss']\n",
        "val_loss=history.history['val_loss']\n",
        "\n",
        "epochs=range(len(acc))\n",
        "\n",
        "plt.plot(epochs,acc,'bo',label='Training acc')\n",
        "plt.plot(epochs,val_acc,'b',label='Validation acc')\n",
        "plt.title('Training and Validation accuracy')\n",
        "plt.legend()\n",
        "\n",
        "plt.figure()\n",
        "\n",
        "plt.plot(epochs,loss,'bo',label='Training loss')\n",
        "plt.plot(epochs,val_loss,'b',label='Validation loss')\n",
        "plt.title('Training and Validation loss')\n",
        "plt.legend()\n",
        "\n",
        "plt.show()"
      ],
      "metadata": {
        "colab": {
          "base_uri": "https://localhost:8080/",
          "height": 237
        },
        "id": "sq78_P5sjavZ",
        "outputId": "c5a52600-dd14-4566-ca76-ef5b08250b73"
      },
      "execution_count": 10,
      "outputs": [
        {
          "output_type": "error",
          "ename": "KeyError",
          "evalue": "ignored",
          "traceback": [
            "\u001b[0;31m---------------------------------------------------------------------------\u001b[0m",
            "\u001b[0;31mKeyError\u001b[0m                                  Traceback (most recent call last)",
            "\u001b[0;32m<ipython-input-10-993e8827db37>\u001b[0m in \u001b[0;36m<cell line: 7>\u001b[0;34m()\u001b[0m\n\u001b[1;32m      5\u001b[0m \u001b[0;34m\u001b[0m\u001b[0m\n\u001b[1;32m      6\u001b[0m \u001b[0macc\u001b[0m\u001b[0;34m=\u001b[0m\u001b[0mhistory\u001b[0m\u001b[0;34m.\u001b[0m\u001b[0mhistory\u001b[0m\u001b[0;34m[\u001b[0m\u001b[0;34m'accuracy'\u001b[0m\u001b[0;34m]\u001b[0m\u001b[0;34m\u001b[0m\u001b[0;34m\u001b[0m\u001b[0m\n\u001b[0;32m----> 7\u001b[0;31m \u001b[0mval_acc\u001b[0m\u001b[0;34m=\u001b[0m\u001b[0mhistory\u001b[0m\u001b[0;34m.\u001b[0m\u001b[0mhistory\u001b[0m\u001b[0;34m[\u001b[0m\u001b[0;34m'val_accuracy'\u001b[0m\u001b[0;34m]\u001b[0m\u001b[0;34m\u001b[0m\u001b[0;34m\u001b[0m\u001b[0m\n\u001b[0m\u001b[1;32m      8\u001b[0m \u001b[0mloss\u001b[0m\u001b[0;34m=\u001b[0m\u001b[0mhistory\u001b[0m\u001b[0;34m.\u001b[0m\u001b[0mhistory\u001b[0m\u001b[0;34m[\u001b[0m\u001b[0;34m'loss'\u001b[0m\u001b[0;34m]\u001b[0m\u001b[0;34m\u001b[0m\u001b[0;34m\u001b[0m\u001b[0m\n\u001b[1;32m      9\u001b[0m \u001b[0mval_loss\u001b[0m\u001b[0;34m=\u001b[0m\u001b[0mhistory\u001b[0m\u001b[0;34m.\u001b[0m\u001b[0mhistory\u001b[0m\u001b[0;34m[\u001b[0m\u001b[0;34m'val_loss'\u001b[0m\u001b[0;34m]\u001b[0m\u001b[0;34m\u001b[0m\u001b[0;34m\u001b[0m\u001b[0m\n",
            "\u001b[0;31mKeyError\u001b[0m: 'val_accuracy'"
          ]
        }
      ]
    }
  ]
}